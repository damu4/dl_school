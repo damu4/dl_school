{
 "cells": [
  {
   "cell_type": "markdown",
   "metadata": {
    "colab_type": "text",
    "id": "C7da2Fck9bVb"
   },
   "source": [
    "<p style=\"align: center;\"><img align=center src=\"https://s8.hostingkartinok.com/uploads/images/2018/08/308b49fcfbc619d629fe4604bceb67ac.jpg\"  width=400></p>\n",
    "\n",
    "<h3 style=\"text-align: center;\"><b>Физтех-Школа Прикладной математики и информатики (ФПМИ) МФТИ</b></h3>"
   ]
  },
  {
   "cell_type": "code",
   "execution_count": 0,
   "metadata": {
    "colab": {},
    "colab_type": "code",
    "id": "atiKUuqH9bVh"
   },
   "outputs": [],
   "source": [
    "from matplotlib import pyplot as plt\n",
    "import numpy as np\n",
    "from sklearn import datasets\n",
    "from sklearn.model_selection import train_test_split"
   ]
  },
  {
   "cell_type": "code",
   "execution_count": 0,
   "metadata": {
    "colab": {},
    "colab_type": "code",
    "id": "M7MgX9Oq9bVo"
   },
   "outputs": [],
   "source": [
    "np.random.seed(42)"
   ]
  },
  {
   "cell_type": "markdown",
   "metadata": {
    "colab_type": "text",
    "id": "N88e_sTg9bVt"
   },
   "source": [
    "### 1. Градиентный спуск: повторение"
   ]
  },
  {
   "cell_type": "markdown",
   "metadata": {
    "colab_type": "text",
    "id": "glOQMhvr9bVu"
   },
   "source": [
    "Рассмотрим функцию от двух переменных:"
   ]
  },
  {
   "cell_type": "code",
   "execution_count": 0,
   "metadata": {
    "colab": {},
    "colab_type": "code",
    "id": "Pw25mE1h9bVv"
   },
   "outputs": [],
   "source": [
    "def f(x1, x2):\n",
    "    return np.sin(x1)**2 + np.sin(x2) ** 2"
   ]
  },
  {
   "cell_type": "markdown",
   "metadata": {
    "colab_type": "text",
    "id": "cIk_-ccl9bV0"
   },
   "source": [
    "***Reminder:***  \n",
    "Что мы хотим? Мы хотим найти минимум этой функции (в машинному обучении мы обычно хотим найти минимум **функции потерь**, например, MSE), а точнее найти x1 и x2 такие, что при них значение f(x1,x2) минимально, то есть *точку экстремума*.  \n",
    "Как мы будем искать эту точку? Используем методы оптимизации (=минимизации в нашем случае). Одним из таких методов и является градиентный спуск. "
   ]
  },
  {
   "cell_type": "markdown",
   "metadata": {
    "colab_type": "text",
    "id": "H-5td05g9bV1"
   },
   "source": [
    "Реализуем функцию, которая будет осуществлять градиентный спуск для функции f:\n",
    "\n",
    "*Примечание:* Вам нужно посчитать частные производные именно **аналитически** и **переписать их в код**, а не считать производные численно (через отношение приращения функции к приращению аргумента) -- в этих двух случаях могут различаться ответы, поэтому будьте внимательны"
   ]
  },
  {
   "cell_type": "code",
   "execution_count": 0,
   "metadata": {
    "colab": {},
    "colab_type": "code",
    "id": "H9lvc-A59bV2"
   },
   "outputs": [],
   "source": [
    "def grad_descent(lr, num_iter=100, cur_x1=1.5, cur_x2=-1):\n",
    "    \"\"\"\n",
    "    функция, которая реализует градиентный спуск в минимум для функции f от двух переменных. \n",
    "        param lr: learning rate алгоритма\n",
    "        param num_iter: количество итераций градиентного спуска\n",
    "    \"\"\"\n",
    "    global f\n",
    "    # будем сохранять значения аргументов и значений функции в процессе град. спуска в переменную states\n",
    "    steps = []\n",
    "    \n",
    "    # итерация цикла -- шаг градиентнго спуска\n",
    "    for iter_num in range(num_iter):\n",
    "        steps.append([cur_x1, cur_x2, f(cur_x1, cur_x2)])\n",
    "        \n",
    "        # чтобы обновить значения cur_x1 и cur_x2, как мы помним с последнего занятия, \n",
    "        # нужно найти производные (градиенты) функции f по этим переменным.\n",
    "        grad_x1 = #YOUR_CODE\n",
    "        grad_x2 = #YOUR_CODE\n",
    "                 \n",
    "        # после того, как посчитаны производные, можно обновить веса. \n",
    "        # не забудьте про lr!\n",
    "        cur_x1 -= #YOUR_CODE\n",
    "        cur_x2 -= #YOUR_CODE\n",
    "    return np.array(steps)"
   ]
  },
  {
   "cell_type": "code",
   "execution_count": 0,
   "metadata": {
    "colab": {},
    "colab_type": "code",
    "id": "BoTTaUIR9bV5"
   },
   "outputs": [],
   "source": [
    "steps = grad_descent(lr=0.5, num_iter=10)"
   ]
  },
  {
   "cell_type": "markdown",
   "metadata": {
    "colab_type": "text",
    "id": "ReG0zkHG9bV7"
   },
   "source": [
    "Визуализируем точки градиентного спуска на 3D-графике нашей функции. Звездочками будут обозначены точки (тройки x1, x2, f(x1, x2)), по которым Ваш алгоритм градиентного спуска двигался к минимуму.\n",
    "\n",
    "(Для того, чтобы написовать этот график, мы и сохраняли значения cur_x1, cur_x2, f(cur_x1, cur_x2) в steps в процессе спуска)\n",
    "\n",
    "Если у Вас правильно написана функция grad_descent, то звездочки на картинке должны сходиться к одной из точку минимума функции. Вы можете менять начальные приближения алгоритма, значения lr и num_iter и получать разные результаты."
   ]
  },
  {
   "cell_type": "code",
   "execution_count": 0,
   "metadata": {
    "colab": {},
    "colab_type": "code",
    "id": "zm0PINjU9bV8"
   },
   "outputs": [],
   "source": [
    "# %matplotlib osx\n",
    "\n",
    "from mpl_toolkits.mplot3d import Axes3D\n",
    "import matplotlib.pyplot as plt\n",
    "from matplotlib import cm\n",
    "import numpy as np\n",
    "\n",
    "path = []\n",
    "\n",
    "X, Y = np.meshgrid(np.linspace(-3, 3, 100), np.linspace(-3, 3, 100))\n",
    "\n",
    "fig = plt.figure(figsize=(16, 10))\n",
    "ax = fig.gca(projection='3d')\n",
    "\n",
    "ax.plot(xs=steps[:, 0], ys=steps[:, 1], zs=steps[:, 2], marker='*', markersize=20,\n",
    "                markerfacecolor='y', lw=3, c='black')\n",
    "\n",
    "ax.plot_surface(X, Y, f(X, Y), cmap=cm.coolwarm)\n",
    "ax.set_zlim(0, 5)\n",
    "ax.view_init(elev=60)\n",
    "plt.show()"
   ]
  },
  {
   "cell_type": "markdown",
   "metadata": {
    "colab_type": "text",
    "id": "gzikRcxs9bV_"
   },
   "source": [
    "#### Задание 1.\n",
    "Запустите Вашу функцию grad_descent c параметрами lr=0.3, num_iter=20 и начальными приближениями  cur_x1, cur_x2 = 1.5, -1.\n"
   ]
  },
  {
   "cell_type": "code",
   "execution_count": 0,
   "metadata": {
    "colab": {},
    "colab_type": "code",
    "id": "cJerGcbV9bWA"
   },
   "outputs": [],
   "source": [
    "steps = #YOUR_CODE\n",
    "np.sum(steps[-1]) * 10**6"
   ]
  },
  {
   "cell_type": "markdown",
   "metadata": {
    "colab_type": "text",
    "id": "1OcPBXmA9bWD"
   },
   "source": [
    "### 2. Linear Regression"
   ]
  },
  {
   "cell_type": "markdown",
   "metadata": {
    "colab_type": "text",
    "id": "dtZ4p5g29bWE"
   },
   "source": [
    "В данном пункте мы реализуем метод градиентного спуска для задачи регрессии"
   ]
  },
  {
   "cell_type": "markdown",
   "metadata": {
    "colab_type": "text",
    "id": "LUnm0ARF9bWF"
   },
   "source": [
    "\n",
    "$$Y = X*W + \\vec{b} + \\varepsilon$$"
   ]
  },
  {
   "cell_type": "markdown",
   "metadata": {
    "colab_type": "text",
    "id": "jxTy69ua9bWG"
   },
   "source": [
    "Обратите внимание, что Y - матрица размера $[n\\_samples, n\\_targets]$, т.е. для каждого объекта мы будем предсказывать не 1 число, а $n\\_targets$ чисел. Такая модель будет полезна в будущем, когда вы столкнетесь с полносвязным слоем в нейронных сетях"
   ]
  },
  {
   "cell_type": "code",
   "execution_count": 0,
   "metadata": {
    "colab": {},
    "colab_type": "code",
    "id": "Y03uNHOo9bWH"
   },
   "outputs": [],
   "source": [
    "X, Y = datasets.make_regression(n_targets=3, n_features=2, noise=10, random_state=42)\n",
    "X_train, X_test, Y_train, Y_test = train_test_split(X, Y)"
   ]
  },
  {
   "cell_type": "markdown",
   "metadata": {
    "colab_type": "text",
    "id": "K_Tm7sjx9bWL"
   },
   "source": [
    "*Напоминание*"
   ]
  },
  {
   "cell_type": "markdown",
   "metadata": {
    "colab_type": "text",
    "id": "snlYFgfm9bWM"
   },
   "source": [
    "Для отыскания значения параметров мы будем минимизировать *MSE*\n",
    "\n",
    "$Q(X,Y,W) = \\frac{1}{n}\\|Y - X*W\\|_2^2$\n",
    "\n",
    "где $n$ - количество элементов выборки"
   ]
  },
  {
   "cell_type": "markdown",
   "metadata": {
    "colab_type": "text",
    "id": "MmvQUMYN9bWM"
   },
   "source": [
    "В градиентном спуске на следующем шаге значения параметров получаются из значений на текущем шаге смещением в сторону антиградиента функции потерь:\n",
    "\n",
    "$$W_{(k+1)} = W_{(k)} - \\eta_k \\nabla Q(W_{(k)}),$$\n",
    "где $\\eta_t$ — длина шага (learning rate).\n",
    "\n",
    "Градиент в случае MSE выглядит следующим образом:\n",
    "\n",
    "$$\\nabla Q(W) = \\frac{2}{n}X^T(X*W - Y)$$\n",
    "\n",
    "!!У нас есть несколько переменных, чтобы получить MSE нужно посчитать сумму квадратов ошибок и поделить на n, а не на nk, где n - размер выборки, а k - количество фичей, для MAE так же!!\n"
   ]
  },
  {
   "cell_type": "code",
   "execution_count": 0,
   "metadata": {
    "colab": {},
    "colab_type": "code",
    "id": "AMd68j7r9bWN"
   },
   "outputs": [],
   "source": [
    "class LinearRegression:\n",
    "\n",
    "    def __init__(self, mae_metric=False):\n",
    "        \"\"\"\n",
    "            @param mae_metrics: В случае True необходимо следить за\n",
    "            метрикой MAE во время обучения, иначе - за метрикой MSE\n",
    "        \"\"\"\n",
    "        self.metric = self.calc_mse_metric if not mae_metric else self.calc_mae_metric\n",
    "    \n",
    "    def calc_mae_metric(self, preds, y):\n",
    "        \"\"\"\n",
    "            @param preds: предсказания модели\n",
    "            @param y: истиные значения\n",
    "            @return mae: значение MAE\n",
    "        \"\"\"\n",
    "        #YOUR_CODE\n",
    "    \n",
    "    def calc_mse_metric(self, preds, y):\n",
    "        \"\"\"\n",
    "            @param preds: предсказания модели\n",
    "            @param y: истиные значения\n",
    "            @return mse: значение MSE\n",
    "        \"\"\"\n",
    "        #YOUR_CODE\n",
    "    \n",
    "    def init_weights(self, input_size, output_size):\n",
    "        \"\"\"\n",
    "            Инициализирует параметры модели\n",
    "            W - матрица размерности (input_size, output_size)\n",
    "            инициализируется рандомными числами из\n",
    "            нормального распределения (np.random.normal)\n",
    "            со средним 0 и стандартным отклонением 0.01\n",
    "            b - вектор размерности (1, output_size)\n",
    "            инициализируется нулями\n",
    "        \"\"\"\n",
    "        np.random.seed(42)\n",
    "        self.W = #YOUR_CODE\n",
    "        self.b = #YOUR_CODE\n",
    "\n",
    "    def fit(self, X, y, num_epochs=1000, lr=0.001):\n",
    "        \"\"\"\n",
    "            Обучение модели линейной регрессии методом градиентного спуска\n",
    "            @param X: размерности (num_samples, input_shape)\n",
    "            @param y: размерности (num_samples, output_shape)\n",
    "            @param num_epochs: количество итераций градиентного спуска\n",
    "            @param lr: шаг градиентного спуска\n",
    "            @return metrics: вектор значений метрики на каждом шаге градиентного\n",
    "            спуска. В случае mae_metric==True вычисляется метрика MAE\n",
    "            иначе MSE\n",
    "        \"\"\"\n",
    "        self.init_weights(X.shape[1], y.shape[1])\n",
    "        metrics = []\n",
    "        for _ in range(num_epochs):\n",
    "            preds = self.predict(X)\n",
    "            # сделайте вычисления градиентов без циклов,\n",
    "            # используя только numpy\n",
    "            #YOUR_CODE\n",
    "            #YOUR_CODE\n",
    "            #YOUR_CODE\n",
    "            #YOUR_CODE\n",
    "            metrics.append(self.metric(preds, y))\n",
    "        return metrics\n",
    "\n",
    "    def predict(self, X):\n",
    "        \"\"\"\n",
    "            Думаю, тут все понятно. Сделайте свои предсказания :)\n",
    "        \"\"\"\n",
    "        return #YOUR_CODE"
   ]
  },
  {
   "cell_type": "code",
   "execution_count": 0,
   "metadata": {
    "colab": {},
    "colab_type": "code",
    "id": "8sX8a5OE9bWQ"
   },
   "outputs": [],
   "source": [
    "model = LinearRegression()\n",
    "mse = model.fit(X_train, Y_train)"
   ]
  },
  {
   "cell_type": "code",
   "execution_count": 0,
   "metadata": {
    "colab": {},
    "colab_type": "code",
    "id": "EGGKJjz99bWT",
    "scrolled": true
   },
   "outputs": [],
   "source": [
    "# Постройте график для MSE\n",
    "#YOUR_CODE"
   ]
  },
  {
   "cell_type": "markdown",
   "metadata": {
    "colab_type": "text",
    "id": "2L0RrFne9bWV"
   },
   "source": [
    "#### Задание 2.\n",
    "\n",
    "1. Зафиксируйте `random.seed == 42`\n",
    "2. Сгенерируйте данные с помощью `make_regression` с параметами `n_targets=3, n_features=2, noise=10, random_state=42`. С помощью `train_test_split` разделите данные на обучение и тест \n",
    "3. Обучите модель линейной регрессии с параметрами по умолчанию.\n",
    "\n",
    "####  Задание 3.\n",
    "\n",
    "1. Обучите модель линейной регрессии на тех же данных. В этот раз считайте MAE"
   ]
  },
  {
   "cell_type": "markdown",
   "metadata": {
    "colab_type": "text",
    "id": "qmTfcFZB9bWW"
   },
   "source": [
    "### Логистическая регрессия"
   ]
  },
  {
   "cell_type": "markdown",
   "metadata": {
    "colab_type": "text",
    "id": "PDwAK1rj9bWX"
   },
   "source": [
    "Теперь будем решать задачу классификации при помощи логистической регрессии"
   ]
  },
  {
   "cell_type": "code",
   "execution_count": 0,
   "metadata": {
    "colab": {},
    "colab_type": "code",
    "id": "hXbUhTm99bWY"
   },
   "outputs": [],
   "source": [
    "X, y = datasets.make_blobs(n_samples=10000, n_features=2, centers=2, random_state=42)\n",
    "y = y[:, np.newaxis]\n",
    "X_train, X_test, y_train, y_test = train_test_split(X, y, random_state=42)"
   ]
  },
  {
   "cell_type": "code",
   "execution_count": 0,
   "metadata": {
    "colab": {},
    "colab_type": "code",
    "id": "O35OmKnM9bWb"
   },
   "outputs": [],
   "source": [
    "plt.scatter(X_train[:, 0], X_train[:, 1], c=y_train[:, 0])\n",
    "plt.show()"
   ]
  },
  {
   "cell_type": "markdown",
   "metadata": {
    "colab_type": "text",
    "id": "vn5RyTe89bWd"
   },
   "source": [
    "Небольшое напоминание по логистической регрессии:\n",
    "\n",
    "Сигмоида\n",
    "$$ \\sigma(h) = \\frac{1}{1 + exp(-h)} $$\n",
    "\n",
    "Вероятность принадлежности к классу\n",
    "\n",
    "$$ P(y = 1 | x, w) = \\sigma(x, w) $$\n",
    "\n",
    "Логистическая функция потерь\n",
    "\n",
    "$$ L(y, p) = - \\frac{1}{m}\\sum_{1}^{m}(y_i log(p_i) + (1 - y_i) log(1 - p_i)) $$"
   ]
  },
  {
   "cell_type": "code",
   "execution_count": 0,
   "metadata": {
    "colab": {},
    "colab_type": "code",
    "id": "u-Ey1TCu9bWe"
   },
   "outputs": [],
   "source": [
    "class LogisticRegressionGD:\n",
    "    '''\n",
    "    A simple logistic regression for binary classification with gradient descent\n",
    "    '''\n",
    "    \n",
    "    def __init__(self):\n",
    "        pass\n",
    "    \n",
    "    def __extend_X(self, X):\n",
    "        \"\"\"\n",
    "            Данный метод должен возвращать следующую матрицу:\n",
    "            X_ext = [1, X], где 1 - единичный вектор\n",
    "            это необходимо для того, чтобы было удобнее производить\n",
    "            вычисления, т.е., вместо того, чтобы считать X@W + b\n",
    "            можно было считать X_ext@W_ext \n",
    "        \"\"\"\n",
    "        return #YOUR_CODE\n",
    "    \n",
    "    def init_weights(self, input_size, output_size):\n",
    "        \"\"\"\n",
    "            Инициализирует параметры модели\n",
    "            W - матрица размерности (input_size, output_size)\n",
    "            инициализируется рандомными числами из\n",
    "            нормального распределения со средним 0 и стандартным отклонением 0.01\n",
    "        \"\"\"\n",
    "        np.random.seed(42)\n",
    "        self.W = #YOUR_CODE\n",
    "        \n",
    "    def get_loss(self, p, y):\n",
    "        \"\"\"\n",
    "            Данный метод вычисляет логистическую функцию потерь\n",
    "            @param p: Вероятности принадлежности к классу 1\n",
    "            @param y: Истинные метки\n",
    "        \"\"\"\n",
    "        #YOUR_CODE\n",
    "    \n",
    "    def get_prob(self, X):\n",
    "        \"\"\"\n",
    "            Данный метод вычисляет P(y=1|X,W)\n",
    "            Возможно, будет удобнее реализовать дополнительный\n",
    "            метод для вычисления сигмоиды\n",
    "        \"\"\"\n",
    "        if X.shape[1] != self.W.shape[0]:\n",
    "            X = self.__extend_X(X)\n",
    "        #YOUR_CODE\n",
    "    \n",
    "    def get_acc(self, p, y, threshold=0.5):\n",
    "        \"\"\"\n",
    "            Данный метод вычисляет accuracy:\n",
    "            acc = \\frac{1}{len(y)}\\sum_{i=1}^{len(y)}{I[y_i == (p_i >= threshold)]}\n",
    "        \"\"\"\n",
    "        #YOUR_CODE\n",
    "\n",
    "    def fit(self, X, y, num_epochs=100, lr=0.001):\n",
    "        \n",
    "        X = self.__extend_X(X)\n",
    "        self.init_weights(X.shape[1], y.shape[1])\n",
    "        \n",
    "        accs = []\n",
    "        losses = []\n",
    "        for _ in range(num_epochs):\n",
    "            p = self.get_prob(X)\n",
    "\n",
    "            W_grad = #YOUR_CODE\n",
    "            self.W -= #YOUR_CODE\n",
    "            \n",
    "            # необходимо для стабильности вычислений под логарифмом\n",
    "            p = np.clip(p, 1e-10, 1 - 1e-10)\n",
    "            \n",
    "            log_loss = self.get_loss(p, y)\n",
    "            losses.append(log_loss)\n",
    "            acc = self.get_acc(p, y)\n",
    "            accs.append(acc)\n",
    "        \n",
    "        return accs, losses"
   ]
  },
  {
   "cell_type": "code",
   "execution_count": 0,
   "metadata": {
    "colab": {},
    "colab_type": "code",
    "id": "w-Pbq-fj9bWh"
   },
   "outputs": [],
   "source": [
    "model = LogisticRegressionGD()\n",
    "accs, losses = model.fit(X_train, y_train)"
   ]
  },
  {
   "cell_type": "code",
   "execution_count": 0,
   "metadata": {
    "colab": {},
    "colab_type": "code",
    "id": "ItS0UWut9bWl"
   },
   "outputs": [],
   "source": [
    "# Постройте графики для accuracy и для loss\n",
    "#YOUR_CODE"
   ]
  },
  {
   "cell_type": "markdown",
   "metadata": {
    "colab_type": "text",
    "id": "TRJRxlLH9bWp"
   },
   "source": [
    "#### Задание 4\n",
    "\n",
    "1. Реализуйте все методы класса `LogisticRegressionGD`\n",
    "2. Создайте модель и обучите ее с параметрами по умолчанию на train данных\n",
    "3. по полученным `accs` и  `losses` посчитайте среднее.\n",
    "4. Посчитайте accuracy на test данных. `threshold=0.5`."
   ]
  },
  {
   "cell_type": "markdown",
   "metadata": {
    "colab_type": "text",
    "id": "Ku-r6kPq9bWr"
   },
   "source": [
    "### Logistic regresion with SGD"
   ]
  },
  {
   "cell_type": "markdown",
   "metadata": {
    "colab_type": "text",
    "id": "6IGzwx9n9bWr"
   },
   "source": [
    "Сложность вычисления в случае с GD $O(kn)$, где $k$ - размер вектора признаков, $n$ - размер всей выборки.\n",
    "В случае, когда выборка очень большая, это решение становится непрактичным\n",
    "\n",
    "GD заменяют на SGD - *Стохастический градиентный спуск*. Он отличается от обычного заменой градиента на несмещённую оценку по одному или нескольким объектам. В этом случае сложность становится  $O(kl)$ , где  $l$  — количество объектов, по которым оценивается градиент,  $l << n$."
   ]
  },
  {
   "cell_type": "code",
   "execution_count": 0,
   "metadata": {
    "colab": {},
    "colab_type": "code",
    "id": "zROrnclo9bWs"
   },
   "outputs": [],
   "source": [
    "def batch_generator(X, y, batch_size=100):\n",
    "    \"\"\"\n",
    "        Необходимо написать свой генератор батчей.\n",
    "        Если вы не знаете, что такое генератор, то, возможно,\n",
    "        вам поможет\n",
    "        https://habr.com/ru/post/132554/\n",
    "        В данном генераторе не надо перемешивать данные\n",
    "    \"\"\"\n",
    "    num_samples = X.shape[0]\n",
    "    # Заметьте, что в данном случае, если num_samples не делится на batch_size,\n",
    "    # то последние элементы никогда не попадут в обучение\n",
    "    # в данном случае нас это не волнует\n",
    "    num_batches = int(num_samples / batch_size)\n",
    "    for i in range(num_batches-1):\n",
    "        # Необходимо отдать batch_size обьектов и соответствующие им target\n",
    "        #YOUR_CODE\n",
    "\n",
    "class LogisticRegressionSGD:\n",
    "    def __init__(self):\n",
    "        pass\n",
    "    \n",
    "    def __extend_X(self, X):\n",
    "        \"\"\"\n",
    "            Данный метод должен возвращать следующую матрицу:\n",
    "            X_ext = [1, X], где 1 - единичный вектор\n",
    "            это необходимо для того, чтобы было удобнее производить\n",
    "            вычисления, т.е., вместо того, чтобы считать X@W + b\n",
    "            можно было считать X_ext@W_ext\n",
    "        \"\"\"\n",
    "        #YOUR_CODE\n",
    "\n",
    "    def init_weights(self, input_size, output_size):\n",
    "        \"\"\"\n",
    "            Инициализирует параметры модели\n",
    "            W - матрица размерности (input_size, output_size)\n",
    "            инициализируется рандомными числами из\n",
    "            нормального распределения со средним 0 и стандартным отклонением 0.01\n",
    "        \"\"\"\n",
    "        np.random.seed(42)\n",
    "        self.W = #YOUR_CODE\n",
    "        \n",
    "    def get_loss(self, p, y):\n",
    "        \"\"\"\n",
    "            Данный метод вычисляет логистическую функцию потерь\n",
    "            @param p: Вероятности принадлежности к классу 1\n",
    "            @param y: Истинные метки\n",
    "        \"\"\"\n",
    "        #YOUR_CODE\n",
    "    \n",
    "    def get_prob(self, X):\n",
    "        \"\"\"\n",
    "            Данный метод вычисляет P(y=1|X,W)\n",
    "            Возможно, будет удобнее реализовать дополнительный\n",
    "            метод для вычисления сигмоиды\n",
    "        \"\"\"\n",
    "        if X.shape[1] != self.W.shape[0]:\n",
    "            X = self.__extend_X(X)\n",
    "        #YOUR_CODE\n",
    "    \n",
    "    def get_acc(self, p, y, threshold=0.5):\n",
    "        \"\"\"\n",
    "            Данный метод вычисляет accuracy:\n",
    "            acc = \\frac{1}{len(y)}\\sum_{i=1}^{len(y)}{I[y_i == (p_i >= threshold)]}\n",
    "        \"\"\"\n",
    "        #YOUR_CODE\n",
    "\n",
    "    def fit(self, X, y, num_epochs=10, lr=0.001):\n",
    "        \n",
    "        X = self.__extend_X(X)\n",
    "        self.init_weights(X.shape[1], y.shape[1])\n",
    "        \n",
    "        accs = []\n",
    "        losses = []\n",
    "        for _ in range(num_epochs):\n",
    "            gen = batch_generator(X, y)\n",
    "            for X_, y_ in gen:\n",
    "                p = self.get_prob(X_)\n",
    "\n",
    "                W_grad = #YOUR_CODE\n",
    "                self.W -= #YOUR_CODE\n",
    "\n",
    "                # необходимо для стабильности вычислений под логарифмом\n",
    "                p = np.clip(p, 1e-10, 1 - 1e-10)\n",
    "\n",
    "                log_loss = self.get_loss(p, y_)\n",
    "                losses.append(log_loss)\n",
    "                acc = self.get_acc(p, y_)\n",
    "                accs.append(acc)\n",
    "        \n",
    "        return accs, losses"
   ]
  },
  {
   "cell_type": "code",
   "execution_count": 0,
   "metadata": {
    "colab": {},
    "colab_type": "code",
    "id": "bR3hSDgy9bWu"
   },
   "outputs": [],
   "source": [
    "model = LogisticRegressionSGD()\n",
    "accs, losses = model.fit(X_train, y_train)"
   ]
  },
  {
   "cell_type": "code",
   "execution_count": 0,
   "metadata": {
    "colab": {},
    "colab_type": "code",
    "id": "_FZvwpkT9bWx"
   },
   "outputs": [],
   "source": [
    "# Постройте графики для accuracy и для loss\n",
    "#YOUR_CODE"
   ]
  },
  {
   "cell_type": "markdown",
   "metadata": {
    "colab_type": "text",
    "id": "Rj5hZjJk9bW0"
   },
   "source": [
    "В данном случае модель тренируется значительно дольше, чем c *Gradient Decent*. Попробуйте объяснить, почему так происходит"
   ]
  },
  {
   "cell_type": "markdown",
   "metadata": {
    "colab_type": "text",
    "id": "7g9AlgLb9bW1"
   },
   "source": [
    "#### Задание 5\n",
    "\n",
    "1. Реализуйте все методы класса `LogisticRegressionSGD`\n",
    "2. Создайте модель и обучите ее с параметрами по умолчанию на train данных\n",
    "3. по полученным `accs` и  `losses` посчитайте среднее. \n",
    "4. Посчитайте accuracy на test данных. `threshold=0.5`. "
   ]
  }
 ],
 "metadata": {
  "colab": {
   "collapsed_sections": [],
   "name": "[homework]6_OOP_and_optimization.ipynb",
   "provenance": []
  },
  "hide_input": false,
  "kernelspec": {
   "display_name": "Python 3",
   "language": "python",
   "name": "python3"
  },
  "language_info": {
   "codemirror_mode": {
    "name": "ipython",
    "version": 3
   },
   "file_extension": ".py",
   "mimetype": "text/x-python",
   "name": "python",
   "nbconvert_exporter": "python",
   "pygments_lexer": "ipython3",
   "version": "3.6.4"
  },
  "varInspector": {
   "cols": {
    "lenName": 16,
    "lenType": 16,
    "lenVar": 40
   },
   "kernels_config": {
    "python": {
     "delete_cmd_postfix": "",
     "delete_cmd_prefix": "del ",
     "library": "var_list.py",
     "varRefreshCmd": "print(var_dic_list())"
    },
    "r": {
     "delete_cmd_postfix": ") ",
     "delete_cmd_prefix": "rm(",
     "library": "var_list.r",
     "varRefreshCmd": "cat(var_dic_list()) "
    }
   },
   "types_to_exclude": [
    "module",
    "function",
    "builtin_function_or_method",
    "instance",
    "_Feature"
   ],
   "window_display": false
  }
 },
 "nbformat": 4,
 "nbformat_minor": 1
}
